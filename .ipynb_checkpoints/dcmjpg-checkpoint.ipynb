{
 "cells": [
  {
   "cell_type": "code",
   "execution_count": 55,
   "id": "3bbe08ef",
   "metadata": {},
   "outputs": [],
   "source": [
    "import os\n",
    "import numpy as np\n",
    "import pydicom\n",
    "from PIL import Image"
   ]
  },
  {
   "cell_type": "code",
   "execution_count": 91,
   "id": "d2e5dc88",
   "metadata": {},
   "outputs": [],
   "source": [
    "def get_names_of_imgs_inside_folder(directory):\n",
    "\n",
    "    names = []\n",
    "\n",
    "    for root, dirnames, filenames in os.walk(directory):\n",
    "        for filename in filenames:\n",
    "            _, ext = os.path.splitext(filename) #分离扩展名  \n",
    "            if ext in [\".dcm\"]:\n",
    "                \n",
    "                names.append(filename)\n",
    "\n",
    "    return names\n",
    "\n",
    "def convert(Database,name):\n",
    "    im = pydicom.dcmread(Database +'/'+name)\n",
    "    im = im.pixel_array.astype(float)\n",
    "\n",
    "    rescaled_image = (np.maximum(im,0)/im.max())*255 # float pixels\n",
    "    final_image = np.uint8(rescaled_image) # integers pixels\n",
    "\n",
    "    final_image = Image.fromarray(final_image)\n",
    "    return final_image\n"
   ]
  },
  {
   "cell_type": "code",
   "execution_count": 70,
   "id": "a9a1bf2a",
   "metadata": {},
   "outputs": [],
   "source": [
    "Database=r'/mnt/sda/data/FudanCancer/4-MTT-YAJU/4-yj-CT'\n",
    "names = get_names_of_imgs_inside_folder(Database)\n",
    "\n",
    "for name in names:\n",
    "    image = convert(Database,name)\n",
    "    rename=name.replace('.dcm','')\n",
    "    image.save(rename+'.jpg')"
   ]
  },
  {
   "cell_type": "code",
   "execution_count": 92,
   "id": "861fbe56",
   "metadata": {},
   "outputs": [
    {
     "name": "stdout",
     "output_type": "stream",
     "text": [
      "[]\n"
     ]
    }
   ],
   "source": [
    "basepth=os.listdir(r'/mnt/sda/data/FudanCancer')\n",
    "for pth in basepth:\n",
    "    basepth2=os.lisdir(os.path.join(basepth,pth))\n",
    "    for pth2 in basepth2:\n",
    "    Database=os.path.\n",
    "    names = get_names_of_imgs_inside_folder(Database)\n",
    "    print(names)\n",
    "    break"
   ]
  },
  {
   "cell_type": "code",
   "execution_count": 93,
   "id": "8e65feb4",
   "metadata": {},
   "outputs": [
    {
     "name": "stdout",
     "output_type": "stream",
     "text": [
      "/mnt/sda/data/FudanCancer/5-MTT-JWJI2/intraCT/1\n"
     ]
    }
   ],
   "source": [
    "# basepth.sort()\n",
    "# basepth\n",
    "print(root)"
   ]
  },
  {
   "cell_type": "code",
   "execution_count": 69,
   "id": "6c41e1a0",
   "metadata": {},
   "outputs": [],
   "source": [
    "# #npth=os.listdir('/mnt/sda/data/FudanCancer')\n",
    "# for root,dirnams,files in os.walk(r'/mnt/sda/data/FudanCancer'+):\n",
    "# #     print (root)\n",
    "# #     print(dirnams)\n",
    "#     print(len(files))"
   ]
  },
  {
   "cell_type": "code",
   "execution_count": 32,
   "id": "7a41c6df",
   "metadata": {},
   "outputs": [
    {
     "name": "stdout",
     "output_type": "stream",
     "text": [
      "IMG-0001-00037 \n"
     ]
    }
   ],
   "source": [
    "print(files[1].replace('.dcm',' '))"
   ]
  },
  {
   "cell_type": "code",
   "execution_count": 67,
   "id": "7d598551",
   "metadata": {},
   "outputs": [
    {
     "data": {
      "text/plain": [
       "['41-RFA-LYSH',\n",
       " '20-RFA-ZYBO',\n",
       " '11-MTT-SHJI',\n",
       " '14-RFA-CCMI',\n",
       " '26-RFA-FXYA',\n",
       " '24-MTT-GHTA',\n",
       " '9-MTT-CBSH',\n",
       " '27-MTT-DTYU',\n",
       " '7-RFA-GJDI',\n",
       " '10-RFA-SUPI',\n",
       " '7-RFA-GJDI2',\n",
       " '22-RFA-YUSH',\n",
       " '6-RFA-WZLI2',\n",
       " '15-RFA-LGE',\n",
       " '19-MTT-YUXI',\n",
       " '17-MTT-ZHHO',\n",
       " '42-RFA-ZLPI',\n",
       " '25-MTT-YUBI',\n",
       " '18-RFA-TSJU',\n",
       " '8-MTT-WRMI2',\n",
       " '9-MTT-CBSH2',\n",
       " '16-MTT-LXFE',\n",
       " '13-MTT-ZWFU',\n",
       " '2-RFA-SQDI',\n",
       " '23-MTT-ZOYA',\n",
       " '6-RFA-WZLI',\n",
       " '12-MTT-MSMI',\n",
       " '21-RFA-SSYA',\n",
       " '44-MTT-CSKE',\n",
       " '4-MTT-YAJU',\n",
       " '4-MTT-YAJU2',\n",
       " '8-MTT-WRMI',\n",
       " '3-RFA-YPQI',\n",
       " '5-MTT-JWJI',\n",
       " '3-RFA-YPQI2',\n",
       " '1-MTT-LJZH',\n",
       " '5-MTT-JWJI2']"
      ]
     },
     "execution_count": 67,
     "metadata": {},
     "output_type": "execute_result"
    }
   ],
   "source": [
    "#pth=os.listdir(r'/mnt/sda/data/FudanCancer')\n"
   ]
  },
  {
   "cell_type": "code",
   "execution_count": 81,
   "id": "a48f2937",
   "metadata": {},
   "outputs": [
    {
     "data": {
      "text/plain": [
       "str"
      ]
     },
     "execution_count": 81,
     "metadata": {},
     "output_type": "execute_result"
    }
   ],
   "source": [
    "#import glob\n",
    "type(pth[0])"
   ]
  },
  {
   "cell_type": "code",
   "execution_count": 61,
   "id": "f5e033bb",
   "metadata": {},
   "outputs": [
    {
     "data": {
      "text/plain": [
       "['/mnt/sda/data/FudanCancer']"
      ]
     },
     "execution_count": 61,
     "metadata": {},
     "output_type": "execute_result"
    }
   ],
   "source": [
    "glob.glob('/mnt/sda/data/FudanCancer')"
   ]
  },
  {
   "cell_type": "code",
   "execution_count": 66,
   "id": "9b20009e",
   "metadata": {},
   "outputs": [
    {
     "ename": "NameError",
     "evalue": "name 'sort' is not defined",
     "output_type": "error",
     "traceback": [
      "\u001b[0;31m---------------------------------------------------------------------------\u001b[0m",
      "\u001b[0;31mNameError\u001b[0m                                 Traceback (most recent call last)",
      "Cell \u001b[0;32mIn [66], line 1\u001b[0m\n\u001b[0;32m----> 1\u001b[0m \u001b[38;5;28mprint\u001b[39m(\u001b[43msort\u001b[49m(pth))\n",
      "\u001b[0;31mNameError\u001b[0m: name 'sort' is not defined"
     ]
    }
   ],
   "source": []
  },
  {
   "cell_type": "code",
   "execution_count": null,
   "id": "95c6cc1b",
   "metadata": {},
   "outputs": [],
   "source": []
  }
 ],
 "metadata": {
  "kernelspec": {
   "display_name": "Python 3 (ipykernel)",
   "language": "python",
   "name": "python3"
  },
  "language_info": {
   "codemirror_mode": {
    "name": "ipython",
    "version": 3
   },
   "file_extension": ".py",
   "mimetype": "text/x-python",
   "name": "python",
   "nbconvert_exporter": "python",
   "pygments_lexer": "ipython3",
   "version": "3.10.8"
  }
 },
 "nbformat": 4,
 "nbformat_minor": 5
}
