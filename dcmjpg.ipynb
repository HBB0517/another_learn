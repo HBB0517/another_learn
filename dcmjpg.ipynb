{
 "cells": [
  {
   "cell_type": "code",
   "execution_count": 1,
   "id": "3bbe08ef",
   "metadata": {},
   "outputs": [],
   "source": [
    "import os\n",
    "import numpy as np\n",
    "import pydicom\n",
    "from PIL import Image\n",
    "import glob"
   ]
  },
  {
   "cell_type": "code",
   "execution_count": 13,
   "id": "c61c2dcf",
   "metadata": {},
   "outputs": [],
   "source": [
    "def get_names_of_imgs_inside_folder(directory):\n",
    "\n",
    "    names = []\n",
    "    #basepth=os.listdir(directory)\n",
    "    for root, dirnames, filenames in os.walk(directory):\n",
    "        for filename in filenames:\n",
    "            _, ext = os.path.splitext(filename) #分离扩展名  \n",
    "            if ext in [\".dcm\"]:\n",
    "                \n",
    "                names.append(filename)\n",
    "\n",
    "    return names\n",
    "\n",
    "def convert(Database,name):\n",
    "    im = pydicom.dcmread(Database +'/'+name)\n",
    "    im = im.pixel_array.astype(float)\n",
    "\n",
    "    rescaled_image = (np.maximum(im,0)/im.max())*255 # float pixels\n",
    "    final_image = np.uint8(rescaled_image) # integers pixels\n",
    "\n",
    "    final_image = Image.fromarray(final_image)\n",
    "    return final_image\n"
   ]
  },
  {
   "cell_type": "code",
   "execution_count": 36,
   "id": "a9a1bf2a",
   "metadata": {},
   "outputs": [
    {
     "name": "stdout",
     "output_type": "stream",
     "text": [
      "gone\n"
     ]
    }
   ],
   "source": [
    "Database=r'/mnt/sda/data/FudanCancer/MRI'\n",
    "# basepth=os.listdir(r'/mnt/sda/data/FudanCancer')\n",
    "# for pth in basepth:\n",
    "#Database=glob.glob('\\\\mnt\\\\sda\\\\data\\\\FudanCancer'+'\\\\'+pth+'\\\\'+'*-***-CT')\n",
    "names = get_names_of_imgs_inside_folder(Database)\n",
    "\n",
    "for name in names:\n",
    "    image = convert(Database,name)\n",
    "    rename=name.replace('.dcm','')\n",
    "    image.save(rename+'.jpg')\n",
    "print('gone')"
   ]
  },
  {
   "cell_type": "code",
   "execution_count": 18,
   "id": "c77d5ce9",
   "metadata": {},
   "outputs": [
    {
     "name": "stdout",
     "output_type": "stream",
     "text": [
      "['/mnt/sda/data/FudanCancer/20-RFA-ZYBO/20-zyb-CT']\n",
      "['/mnt/sda/data/FudanCancer/11-MTT-SHJI/11-shj-CT']\n",
      "['/mnt/sda/data/FudanCancer/14-RFA-CCMI/14-ccm-CT']\n",
      "['/mnt/sda/data/FudanCancer/26-RFA-FXYA/26-fxy-CT']\n",
      "['/mnt/sda/data/FudanCancer/24-MTT-GHTA/24-ght-CT']\n",
      "['/mnt/sda/data/FudanCancer/9-MTT-CBSH/9-cbs-CT']\n",
      "['/mnt/sda/data/FudanCancer/10-RFA-SUPI/10-sp-CT']\n",
      "['/mnt/sda/data/FudanCancer/22-RFA-YUSH/22-ys-CT']\n",
      "['/mnt/sda/data/FudanCancer/15-RFA-LGE/15-lge-CT']\n",
      "['/mnt/sda/data/FudanCancer/19-MTT-YUXI/19-yx-CT']\n",
      "['/mnt/sda/data/FudanCancer/17-MTT-ZHHO/17-zh-CT']\n",
      "['/mnt/sda/data/FudanCancer/25-MTT-YUBI/25-lb-CT']\n",
      "['/mnt/sda/data/FudanCancer/18-RFA-TSJU/18-tsj-CT']\n",
      "['/mnt/sda/data/FudanCancer/16-MTT-LXFE/16-lxf-CT']\n",
      "['/mnt/sda/data/FudanCancer/13-MTT-ZWFU/13-zwf-CT']\n",
      "['/mnt/sda/data/FudanCancer/23-MTT-ZOYA/23-zy-CT']\n",
      "['/mnt/sda/data/FudanCancer/12-MTT-MSMI/12-msm-CT']\n",
      "['/mnt/sda/data/FudanCancer/21-RFA-SSYA/21-ssy-CT']\n",
      "['/mnt/sda/data/FudanCancer/8-MTT-WRMI/8-wrm-CT']\n"
     ]
    }
   ],
   "source": [
    " basepth=os.listdir(r'/mnt/sda/data/FudanCancer')\n",
    "for pth in basepth:\n",
    "    Database=glob.glob('/mnt/sda/data/FudanCancer'+'/'+pth+'/'+'*-***-CT')\n",
    "    print(Database)"
   ]
  },
  {
   "cell_type": "code",
   "execution_count": 11,
   "id": "861fbe56",
   "metadata": {},
   "outputs": [
    {
     "name": "stdout",
     "output_type": "stream",
     "text": [
      "['/mnt/sda/data/FudanCancer/41-RFA-LYSH/41-lys-CT']\n"
     ]
    },
    {
     "ename": "TypeError",
     "evalue": "expected str, bytes or os.PathLike object, not list",
     "output_type": "error",
     "traceback": [
      "\u001b[0;31m---------------------------------------------------------------------------\u001b[0m",
      "\u001b[0;31mTypeError\u001b[0m                                 Traceback (most recent call last)",
      "Cell \u001b[0;32mIn [11], line 8\u001b[0m\n\u001b[1;32m      6\u001b[0m Database\u001b[38;5;241m=\u001b[39mglob\u001b[38;5;241m.\u001b[39mglob(\u001b[38;5;124m'\u001b[39m\u001b[38;5;124m/mnt/sda/data/FudanCancer\u001b[39m\u001b[38;5;124m'\u001b[39m\u001b[38;5;241m+\u001b[39m\u001b[38;5;124m'\u001b[39m\u001b[38;5;124m/\u001b[39m\u001b[38;5;124m'\u001b[39m\u001b[38;5;241m+\u001b[39mpth\u001b[38;5;241m+\u001b[39m\u001b[38;5;124m'\u001b[39m\u001b[38;5;124m/\u001b[39m\u001b[38;5;124m'\u001b[39m\u001b[38;5;241m+\u001b[39m\u001b[38;5;124m'\u001b[39m\u001b[38;5;124m*-***-CT\u001b[39m\u001b[38;5;124m'\u001b[39m)\n\u001b[1;32m      7\u001b[0m \u001b[38;5;28mprint\u001b[39m(Database)\n\u001b[0;32m----> 8\u001b[0m names \u001b[38;5;241m=\u001b[39m \u001b[43mget_names_of_imgs_inside_folder\u001b[49m\u001b[43m(\u001b[49m\u001b[43mDatabase\u001b[49m\u001b[43m)\u001b[49m\n\u001b[1;32m      9\u001b[0m \u001b[38;5;28mprint\u001b[39m(names)\n\u001b[1;32m     10\u001b[0m \u001b[38;5;28;01mbreak\u001b[39;00m\n",
      "Cell \u001b[0;32mIn [9], line 5\u001b[0m, in \u001b[0;36mget_names_of_imgs_inside_folder\u001b[0;34m(directory)\u001b[0m\n\u001b[1;32m      1\u001b[0m \u001b[38;5;28;01mdef\u001b[39;00m \u001b[38;5;21mget_names_of_imgs_inside_folder\u001b[39m(directory):\n\u001b[1;32m      3\u001b[0m     names \u001b[38;5;241m=\u001b[39m []\n\u001b[0;32m----> 5\u001b[0m     \u001b[38;5;28;01mfor\u001b[39;00m root, dirnames, filenames \u001b[38;5;129;01min\u001b[39;00m \u001b[43mos\u001b[49m\u001b[38;5;241;43m.\u001b[39;49m\u001b[43mwalk\u001b[49m\u001b[43m(\u001b[49m\u001b[43mdirectory\u001b[49m\u001b[43m)\u001b[49m:\n\u001b[1;32m      6\u001b[0m         \u001b[38;5;28;01mfor\u001b[39;00m filename \u001b[38;5;129;01min\u001b[39;00m filenames:\n\u001b[1;32m      7\u001b[0m             _, ext \u001b[38;5;241m=\u001b[39m os\u001b[38;5;241m.\u001b[39mpath\u001b[38;5;241m.\u001b[39msplitext(filename) \u001b[38;5;66;03m#分离扩展名  \u001b[39;00m\n",
      "File \u001b[0;32m~/anaconda3/envs/hpy39/lib/python3.10/os.py:343\u001b[0m, in \u001b[0;36mwalk\u001b[0;34m(top, topdown, onerror, followlinks)\u001b[0m\n\u001b[1;32m    283\u001b[0m \u001b[38;5;124;03m\"\"\"Directory tree generator.\u001b[39;00m\n\u001b[1;32m    284\u001b[0m \n\u001b[1;32m    285\u001b[0m \u001b[38;5;124;03mFor each directory in the directory tree rooted at top (including top\u001b[39;00m\n\u001b[0;32m   (...)\u001b[0m\n\u001b[1;32m    340\u001b[0m \n\u001b[1;32m    341\u001b[0m \u001b[38;5;124;03m\"\"\"\u001b[39;00m\n\u001b[1;32m    342\u001b[0m sys\u001b[38;5;241m.\u001b[39maudit(\u001b[38;5;124m\"\u001b[39m\u001b[38;5;124mos.walk\u001b[39m\u001b[38;5;124m\"\u001b[39m, top, topdown, onerror, followlinks)\n\u001b[0;32m--> 343\u001b[0m \u001b[38;5;28;01mreturn\u001b[39;00m _walk(\u001b[43mfspath\u001b[49m\u001b[43m(\u001b[49m\u001b[43mtop\u001b[49m\u001b[43m)\u001b[49m, topdown, onerror, followlinks)\n",
      "\u001b[0;31mTypeError\u001b[0m: expected str, bytes or os.PathLike object, not list"
     ]
    }
   ],
   "source": [
    "basepth=os.listdir(r'/mnt/sda/data/FudanCancer')\n",
    "for pth in basepth:\n",
    "#    pattern=re.compli\n",
    "#     basepth2=os.lisdir(os.path.join(basepth,pth))\n",
    "#     for pth2 in basepth2:\n",
    "    Database=glob.glob('/mnt/sda/data/FudanCancer'+'/'+pth+'/'+'*-***-CT')\n",
    "    print(Database)\n",
    "    names = get_names_of_imgs_inside_folder(Database)\n",
    "    print(names)"
   ]
  },
  {
   "cell_type": "code",
   "execution_count": 93,
   "id": "8e65feb4",
   "metadata": {},
   "outputs": [
    {
     "name": "stdout",
     "output_type": "stream",
     "text": [
      "/mnt/sda/data/FudanCancer/5-MTT-JWJI2/intraCT/1\n"
     ]
    }
   ],
   "source": [
    "# basepth.sort()\n",
    "# basepth\n",
    "print(root)"
   ]
  },
  {
   "cell_type": "code",
   "execution_count": 7,
   "id": "6c41e1a0",
   "metadata": {},
   "outputs": [
    {
     "name": "stdout",
     "output_type": "stream",
     "text": [
      "['/mnt/sda/data/FudanCancer/4-MTT-YAJU/4-yj-CT']\n"
     ]
    }
   ],
   "source": [
    "#npth=os.listdir('/mnt/sda/data/FudanCancer')\n",
    "import glob\n",
    "fil=glob.glob('/mnt/sda/data/FudanCancer'+'/'+'4-MTT-YAJU/'+'/'+'*-***-CT')\n",
    "print(fil)\n",
    "# for root,dirnams,filet in os.walk(r'/mnt/sda/data/FudanCancer/4-MTT-YAJU/*-***-CT'):\n",
    "#     print (root)\n",
    "#     print(dirnams)\n",
    "#     print(filet)"
   ]
  },
  {
   "cell_type": "code",
   "execution_count": 32,
   "id": "7a41c6df",
   "metadata": {},
   "outputs": [
    {
     "name": "stdout",
     "output_type": "stream",
     "text": [
      "IMG-0001-00037 \n"
     ]
    }
   ],
   "source": [
    "print(files[1].replace('.dcm',' '))"
   ]
  },
  {
   "cell_type": "code",
   "execution_count": 37,
   "id": "7d598551",
   "metadata": {},
   "outputs": [],
   "source": [
    "#pth=os.listdir(r'/mnt/sda/data/FudanCancer')\n"
   ]
  },
  {
   "cell_type": "code",
   "execution_count": 38,
   "id": "a48f2937",
   "metadata": {},
   "outputs": [],
   "source": [
    "#import glob\n"
   ]
  },
  {
   "cell_type": "code",
   "execution_count": 40,
   "id": "616c4295",
   "metadata": {},
   "outputs": [
    {
     "ename": "ModuleNotFoundError",
     "evalue": "No module named 'MeDIT'",
     "output_type": "error",
     "traceback": [
      "\u001b[0;31m---------------------------------------------------------------------------\u001b[0m",
      "\u001b[0;31mModuleNotFoundError\u001b[0m                       Traceback (most recent call last)",
      "Cell \u001b[0;32mIn [40], line 4\u001b[0m\n\u001b[1;32m      2\u001b[0m \u001b[38;5;28;01mimport\u001b[39;00m \u001b[38;5;21;01mnumpy\u001b[39;00m \u001b[38;5;28;01mas\u001b[39;00m \u001b[38;5;21;01mnp\u001b[39;00m\n\u001b[1;32m      3\u001b[0m \u001b[38;5;28;01mimport\u001b[39;00m \u001b[38;5;21;01mSimpleITK\u001b[39;00m \u001b[38;5;28;01mas\u001b[39;00m \u001b[38;5;21;01msitk\u001b[39;00m\n\u001b[0;32m----> 4\u001b[0m \u001b[38;5;28;01mfrom\u001b[39;00m \u001b[38;5;21;01mMeDIT\u001b[39;00m \u001b[38;5;28;01mimport\u001b[39;00m Visualization\n\u001b[1;32m      5\u001b[0m \u001b[38;5;28;01mfrom\u001b[39;00m \u001b[38;5;21;01mmatplotlib\u001b[39;00m \u001b[38;5;28;01mimport\u001b[39;00m pyplot \u001b[38;5;28;01mas\u001b[39;00m plt\n\u001b[1;32m      7\u001b[0m min_v \u001b[38;5;241m=\u001b[39m \u001b[38;5;241m-\u001b[39m\u001b[38;5;241m200\u001b[39m\n",
      "\u001b[0;31mModuleNotFoundError\u001b[0m: No module named 'MeDIT'"
     ]
    }
   ],
   "source": [
    "#以下代码是展示三维Nii数据的\n",
    "import numpy as np\n",
    "import SimpleITK as sitk\n",
    "from MeDIT import Visualization\n",
    "from matplotlib import pyplot as plt\n",
    "\n",
    "min_v = -200\n",
    "max_v = 200\n",
    "volume  = \"/mnt/sda/data/FudanCancer/20-RFA-ZYBO/20-zyb-CT/zyb-CT.nii'\" #器官\n",
    "# segment = r\"C:\\Data\\0.Study\\MIP\\ISICDM\\liver\\train\\liver_12\\liver_seg12.nii\" #器官分割\n",
    "# nid = r\"C:\\Data\\0.Study\\MIP\\ISICDM\\liver\\train\\liver_12\\liver_nid12.nii\" #病灶分割\n",
    "image = sitk.ReadImage(volume)\n",
    "image_arr = sitk.GetArrayFromImage(image).transpose(1,2,0)\n",
    "\n",
    "# label_origan = sitk.ReadImage(segment)\n",
    "# label_origan_arr = sitk.GetArrayFromImage(label_origan).transpose(1,2,0)\n",
    "\n",
    "# label_nid = sitk.ReadImage(nid)\n",
    "# label_nid_arr = sitk.GetArrayFromImage(label_nid).transpose(1,2,0)\n",
    "\n",
    "image_arr[image_arr<min_v] = min_v\n",
    "image_arr[image_arr>max_v] = max_v\n",
    "#lab_arr2 =label_origan_arr.astype(np.float32)\n",
    "# lab_arr2=[label_origan_arr.astype(np.float32),label_nid_arr.astype(np.float32)]\n",
    "\n",
    "Visualization.Imshow3DArray(image_arr)#,lab_arr2"
   ]
  },
  {
   "cell_type": "code",
   "execution_count": null,
   "id": "87edf46d",
   "metadata": {},
   "outputs": [],
   "source": []
  },
  {
   "cell_type": "code",
   "execution_count": null,
   "id": "ef010c90",
   "metadata": {},
   "outputs": [],
   "source": []
  }
 ],
 "metadata": {
  "kernelspec": {
   "display_name": "Python 3 (ipykernel)",
   "language": "python",
   "name": "python3"
  },
  "language_info": {
   "codemirror_mode": {
    "name": "ipython",
    "version": 3
   },
   "file_extension": ".py",
   "mimetype": "text/x-python",
   "name": "python",
   "nbconvert_exporter": "python",
   "pygments_lexer": "ipython3",
   "version": "3.10.8"
  }
 },
 "nbformat": 4,
 "nbformat_minor": 5
}
